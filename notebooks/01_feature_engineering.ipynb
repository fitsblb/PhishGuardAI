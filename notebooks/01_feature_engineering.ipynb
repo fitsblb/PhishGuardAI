{
 "cells": [
  {
   "cell_type": "markdown",
   "id": "ce531f22",
   "metadata": {},
   "source": [
    "### **Libraries**"
   ]
  },
  {
   "cell_type": "code",
   "execution_count": 2,
   "id": "da7cc5b3",
   "metadata": {},
   "outputs": [],
   "source": [
    "import pandas as pd\n",
    "import numpy as np\n",
    "from pathlib import Path\n",
    "import json\n",
    "import os"
   ]
  },
  {
   "cell_type": "markdown",
   "id": "fdaff908",
   "metadata": {},
   "source": [
    "### **Set working directory to root**"
   ]
  },
  {
   "cell_type": "code",
   "execution_count": 3,
   "id": "d5bc895c",
   "metadata": {},
   "outputs": [
    {
     "data": {
      "text/plain": [
       "'d:\\\\MLops\\\\NetworkSecurity'"
      ]
     },
     "execution_count": 3,
     "metadata": {},
     "output_type": "execute_result"
    }
   ],
   "source": [
    "%pwd\n",
    "os.chdir(\"../\")\n",
    "%pwd"
   ]
  },
  {
   "cell_type": "markdown",
   "id": "32a3a621",
   "metadata": {},
   "source": [
    "### **Load the data**"
   ]
  },
  {
   "cell_type": "code",
   "execution_count": 4,
   "id": "30be3842",
   "metadata": {},
   "outputs": [
    {
     "name": "stdout",
     "output_type": "stream",
     "text": [
      "Loading deduplicated dataset from EDA\n",
      "\n",
      "Dataset shape: (235370, 56)\n",
      "Unique URLs: 235,370\n",
      "Class balance:\n",
      "label\n",
      "1    134850\n",
      "0    100520\n",
      "Name: count, dtype: int64\n"
     ]
    }
   ],
   "source": [
    "pd.set_option(\"display.max_columns\", None)\n",
    "\n",
    "CLEAN_DATA = Path(\"data/processed/phiusiil_clean_deduped.csv\")\n",
    "OUTPUT_DIR = Path(\"data/processed\")\n",
    "OUTPUT_DIR.mkdir(parents=True, exist_ok=True)\n",
    "\n",
    "print(\"Loading deduplicated dataset from EDA\")\n",
    "df = pd.read_csv(CLEAN_DATA)\n",
    "\n",
    "print(f\"\\nDataset shape: {df.shape}\")\n",
    "print(f\"Unique URLs: {df['URL'].nunique():,}\")\n",
    "print(f\"Class balance:\")\n",
    "print(df[\"label\"].value_counts())\n"
   ]
  },
  {
   "cell_type": "code",
   "execution_count": null,
   "id": "228d781d",
   "metadata": {},
   "outputs": [
    {
     "name": "stdout",
     "output_type": "stream",
     "text": [
      "Total unique domains: 220086\n",
      "Total URLs: 235370\n",
      "Average URLs per domain: 1.07\n",
      "Domains with BOTH phish and legit examples: 54\n"
     ]
    },
    {
     "ename": "",
     "evalue": "",
     "output_type": "error",
     "traceback": [
      "\u001b[1;31mThe Kernel crashed while executing code in the current cell or a previous cell. \n",
      "\u001b[1;31mPlease review the code in the cell(s) to identify a possible cause of the failure. \n",
      "\u001b[1;31mClick <a href='https://aka.ms/vscodeJupyterKernelCrash'>here</a> for more info. \n",
      "\u001b[1;31mView Jupyter <a href='command:jupyter.viewOutput'>log</a> for further details."
     ]
    }
   ],
   "source": [
    "print(f\"Total unique domains: {df['Domain'].nunique()}\")\n",
    "print(f\"Total URLs: {len(df)}\")\n",
    "print(f\"Average URLs per domain: {len(df) / df['Domain'].nunique():.2f}\")\n",
    "\n",
    "# Check if domains repeat across BOTH classes\n",
    "domain_class_dist = df.groupby(\"Domain\")[\"label\"].apply(lambda x: x.nunique())\n",
    "mixed_label_domains = (domain_class_dist > 1).sum()\n",
    "print(f\"Domains with BOTH phish and legit examples: {mixed_label_domains}\")\n"
   ]
  }
 ],
 "metadata": {
  "kernelspec": {
   "display_name": "venv",
   "language": "python",
   "name": "python3"
  },
  "language_info": {
   "codemirror_mode": {
    "name": "ipython",
    "version": 3
   },
   "file_extension": ".py",
   "mimetype": "text/x-python",
   "name": "python",
   "nbconvert_exporter": "python",
   "pygments_lexer": "ipython3",
   "version": "3.11.11"
  }
 },
 "nbformat": 4,
 "nbformat_minor": 5
}
