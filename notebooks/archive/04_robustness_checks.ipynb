{
 "cells": [
  {
   "cell_type": "markdown",
   "id": "c8d2692e",
   "metadata": {},
   "source": [
    "## **robustness_checker**"
   ]
  },
  {
   "cell_type": "markdown",
   "id": "ed2ec4c3",
   "metadata": {},
   "source": [
    "### **Import libraries**"
   ]
  },
  {
   "cell_type": "code",
   "execution_count": 1,
   "id": "eb3e5fc2",
   "metadata": {},
   "outputs": [],
   "source": [
    "from pathlib import Path\n",
    "import numpy as np, pandas as pd\n",
    "from sklearn.model_selection import train_test_split, StratifiedKFold\n",
    "from sklearn.metrics import average_precision_score, brier_score_loss\n",
    "from xgboost import XGBClassifier\n",
    "import matplotlib.pyplot as plt\n",
    "import os"
   ]
  },
  {
   "cell_type": "markdown",
   "id": "3b397718",
   "metadata": {},
   "source": [
    "### **Load the dataset**"
   ]
  },
  {
   "cell_type": "code",
   "execution_count": 2,
   "id": "a0c052dc",
   "metadata": {},
   "outputs": [
    {
     "name": "stdout",
     "output_type": "stream",
     "text": [
      "d:\\MLops\\NetworkSecurity\n"
     ]
    }
   ],
   "source": [
    "os.chdir(\"../\")\n",
    "print(os.getcwd())"
   ]
  },
  {
   "cell_type": "code",
   "execution_count": 3,
   "id": "f144f7dd",
   "metadata": {},
   "outputs": [
    {
     "name": "stdout",
     "output_type": "stream",
     "text": [
      "Checking for: D:\\MLops\\NetworkSecurity\\data\\processed\\phiusiil_clean.csv\n",
      "Exists? True\n",
      "Using dataset: data\\processed\\phiusiil_clean.csv\n"
     ]
    }
   ],
   "source": [
    "\n",
    "\n",
    "SEED = 42\n",
    "CLEAN = Path(\"data/processed/phiusiil_clean.csv\")\n",
    "RAW = Path(\"data/raw/PhiUSIIL_Phishing_URL_Dataset.csv\")\n",
    "DATA = CLEAN if CLEAN.exists() else RAW\n",
    "print(\"Checking for:\", CLEAN.resolve())\n",
    "print(\"Exists?\", CLEAN.exists())\n",
    "print(f\"Using dataset: {DATA}\")"
   ]
  },
  {
   "cell_type": "markdown",
   "id": "903ec957",
   "metadata": {},
   "source": [
    "###  **Load & basic prep**"
   ]
  },
  {
   "cell_type": "markdown",
   "id": "ef2e100b",
   "metadata": {},
   "source": [
    "This code block loads the dataset, automatically locates the label column, and prepares the target variable and features for modeling. It ensures that only numeric columns are used as features, removes the label and URL columns, and prints out the number of numeric features available for analysis. The data is then split into training and validation sets with stratified sampling to maintain class balance, and a version of the validation labels is created to support precision-recall metrics focused on phishing detection."
   ]
  },
  {
   "cell_type": "code",
   "execution_count": null,
   "id": "ca4df2cf",
   "metadata": {},
   "outputs": [
    {
     "name": "stdout",
     "output_type": "stream",
     "text": [
      "Features: 50 numeric columns\n"
     ]
    }
   ],
   "source": [
    "\n",
    "df = pd.read_csv(DATA, encoding_errors=\"ignore\")\n",
    "\n",
    "label_col = next((c for c in df.columns if c.lower() in {\"label\",\"result\",\"y\",\"target\"}), None)\n",
    "assert label_col, \"No label column found\"\n",
    "\n",
    "y = df[label_col].astype(int).values             # 1=legit, 0=phish\n",
    "y_phish = (y == 0).astype(int)                   # for PR-AUC where positive=phish\n",
    "\n",
    "urls = df[\"URL\"].astype(str).values if \"URL\" in df.columns else np.array([\"\"]*len(df))\n",
    "X_all = df.drop(columns=[label_col])\n",
    "if \"URL\" in X_all.columns:\n",
    "    X_all = X_all.drop(columns=[\"URL\"])\n",
    "\n",
    "X_all = X_all.select_dtypes(include=[\"number\"]).copy()\n",
    "print(f\"Features: {X_all.shape[1]} numeric columns\")\n",
    "\n",
    "X_train, X_val, y_train, y_val, u_train, u_val = train_test_split(\n",
    "    X_all, y, urls, test_size=0.20, stratify=y, random_state=SEED\n",
    ")\n",
    "\n",
    "y_val_phish = (y_val == 0).astype(int)"
   ]
  },
  {
   "cell_type": "markdown",
   "id": "e50dd38b",
   "metadata": {},
   "source": [
    "### **Utility: fit a small XGB and return p_mal = P(phish)**"
   ]
  },
  {
   "cell_type": "markdown",
   "id": "0e772504",
   "metadata": {},
   "source": [
    "This function trains an XGBoost classifier to predict the probability that a sample is phishing, using the provided training features and labels. It sets up the model with specific hyperparameters, converts the labels so that phishing is treated as the positive class, and returns the predicted probabilities for the test set. This utility helps quickly evaluate how well the model can distinguish phishing samples from legitimate ones."
   ]
  },
  {
   "cell_type": "code",
   "execution_count": 5,
   "id": "bd159b06",
   "metadata": {},
   "outputs": [],
   "source": [
    "def fit_xgb(Xtr, ytr, Xte, seed=SEED, n_estimators=200):\n",
    "    clf = XGBClassifier(\n",
    "        n_estimators=n_estimators, max_depth=6, learning_rate=0.1,\n",
    "        subsample=0.9, colsample_bytree=0.9, reg_lambda=1.0,\n",
    "        random_state=seed, n_jobs=0, objective=\"binary:logistic\"\n",
    "    )\n",
    "    clf.fit(Xtr, (ytr==0).astype(int))              # train with phish=1 target\n",
    "    p_phish = clf.predict_proba(Xte)[:,1]           # P(phish)\n",
    "    return p_phish"
   ]
  },
  {
   "cell_type": "markdown",
   "id": "d86194c7",
   "metadata": {},
   "source": [
    "### **A1-** **Label-shuffle baseline**"
   ]
  },
  {
   "cell_type": "markdown",
   "id": "fb9773b7",
   "metadata": {},
   "source": [
    "This code block tests the model’s robustness by randomly shuffling the phishing labels in the training set, breaking any real relationship between features and labels. It then trains the model on this shuffled data and evaluates its performance on the validation set, expecting metrics like average precision and Brier score to drop to chance levels (around 0.5 for AP). This helps confirm that the model is not learning shortcuts or artifacts from the data, and that high scores on real data are meaningful."
   ]
  },
  {
   "cell_type": "code",
   "execution_count": 6,
   "id": "c0926639",
   "metadata": {},
   "outputs": [
    {
     "name": "stdout",
     "output_type": "stream",
     "text": [
      "[A1] Label-shuffle   → AP=0.422 (≈0.5 expected), Brier=0.247\n"
     ]
    }
   ],
   "source": [
    "rng = np.random.default_rng(SEED)\n",
    "y_train_shuf = rng.permutation((y_train==0).astype(int))  # shuffle phish labels\n",
    "p_shuf = fit_xgb(X_train, 1 - y_train_shuf, X_val)        # invert back to y-coding for fit helper\n",
    "ap_shuf = average_precision_score(y_val_phish, p_shuf)\n",
    "brier_shuf = brier_score_loss(y_val_phish, p_shuf)\n",
    "print(f\"[A1] Label-shuffle   → AP={ap_shuf:.3f} (≈0.5 expected), Brier={brier_shuf:.3f}\")"
   ]
  },
  {
   "cell_type": "markdown",
   "id": "8b02a786",
   "metadata": {},
   "source": [
    "### **A2- Single-feature PR-AUC scanning**"
   ]
  },
  {
   "cell_type": "markdown",
   "id": "8a5eecf7",
   "metadata": {},
   "source": [
    "This code scans each feature in the validation set to see how well it alone can separate phishing from legitimate samples, using average precision (AP) as the metric. It tests both the original and inverted values of each feature to account for sign direction, then records the best AP for each. Features with very high AP (>0.995) are flagged as potential shortcuts, meaning they might allow the model to easily distinguish classes due to data artifacts or policy-sensitive information."
   ]
  },
  {
   "cell_type": "code",
   "execution_count": 7,
   "id": "03c98316",
   "metadata": {},
   "outputs": [
    {
     "name": "stdout",
     "output_type": "stream",
     "text": [
      "[A2] Top-10 single-feature AP (max over orientation):\n",
      "                   feature   ap_max\n",
      "        URLSimilarityIndex 0.995497\n",
      "                LineOfCode 0.988937\n",
      "           NoOfExternalRef 0.979716\n",
      "                 NoOfImage 0.966242\n",
      "                    NoOfJS 0.955238\n",
      "               NoOfSelfRef 0.936094\n",
      "                   NoOfCSS 0.929496\n",
      "         LargestLineLength 0.853622\n",
      "NoOfOtherSpecialCharsInURL 0.791699\n",
      "     SpacialCharRatioInURL 0.783111\n",
      "[A2] Features with AP>0.995: 1  (flagged as policy-sensitive)\n"
     ]
    }
   ],
   "source": [
    "ap_rows = []\n",
    "for col in X_all.columns:\n",
    "    s_val = X_val[col].values.astype(float)\n",
    "    # Use both orientations; take the best AP (since sign may be arbitrary)\n",
    "    ap1 = average_precision_score(y_val_phish, s_val)\n",
    "    ap2 = average_precision_score(y_val_phish, -s_val)\n",
    "    ap_rows.append((col, float(max(ap1, ap2))))\n",
    "ap_df = pd.DataFrame(ap_rows, columns=[\"feature\", \"ap_max\"])\n",
    "ap_df.sort_values(\"ap_max\", ascending=False, inplace=True)\n",
    "top10 = ap_df.head(10)\n",
    "n_shortcuts = (ap_df[\"ap_max\"] > 0.995).sum()\n",
    "print(f\"[A2] Top-10 single-feature AP (max over orientation):\\n{top10.to_string(index=False)}\")\n",
    "print(f\"[A2] Features with AP>0.995: {n_shortcuts}  (flagged as policy-sensitive)\")"
   ]
  },
  {
   "cell_type": "markdown",
   "id": "c7fb820e",
   "metadata": {},
   "source": [
    "### **A3- Degeneracy check on p_mal vals**"
   ]
  },
  {
   "cell_type": "markdown",
   "id": "96b88c57",
   "metadata": {},
   "source": [
    "This code trains the model on the true labels and predicts phishing probabilities for the validation set. It then checks how many predictions are extremely close to 0 or 1, which can indicate overconfident or degenerate outputs. The average precision and Brier score are calculated to assess model performance, and a histogram visualizes the distribution of predicted probabilities."
   ]
  },
  {
   "cell_type": "code",
   "execution_count": 8,
   "id": "76215a88",
   "metadata": {},
   "outputs": [
    {
     "name": "stdout",
     "output_type": "stream",
     "text": [
      "[A3] True model   → AP=1.000, Brier=0.000005\n",
      "[A3] Prob mass near 0: 0.567 | near 1: 0.425\n"
     ]
    },
    {
     "data": {
      "image/png": "[encoded data removed]",
      "text/plain": [
       "<Figure size 600x350 with 1 Axes>"
      ]
     },
     "metadata": {},
     "output_type": "display_data"
    }
   ],
   "source": [
    "p_mal = fit_xgb(X_train, y_train, X_val)\n",
    "share_near_0 = (p_mal <= 1e-4).mean()\n",
    "share_near_1 = (p_mal >= 1 - 1e-4).mean()\n",
    "ap_true = average_precision_score(y_val_phish, p_mal)\n",
    "brier_true = brier_score_loss(y_val_phish, p_mal)\n",
    "print(f\"[A3] True model   → AP={ap_true:.3f}, Brier={brier_true:.6f}\")\n",
    "print(f\"[A3] Prob mass near 0: {share_near_0:.3f} | near 1: {share_near_1:.3f}\")\n",
    "plt.figure(figsize=(6,3.5)); plt.hist(p_mal, bins=20); plt.title(\"p_malicious (val)\"); plt.xlabel(\"p_mal\"); plt.ylabel(\"count\"); plt.show()"
   ]
  },
  {
   "cell_type": "markdown",
   "id": "238c30db",
   "metadata": {},
   "source": [
    "### **A4- Cross-split duplicate URL contamination**"
   ]
  },
  {
   "cell_type": "markdown",
   "id": "fecdfde9",
   "metadata": {},
   "source": [
    "This code checks for any duplicate URLs that appear in both the training and validation sets, which could cause data leakage and inflate model performance. It then saves the single-feature average precision (AP) results to a CSV file for further review, making it easier to identify features that may act as shortcuts or have unusually high predictive power."
   ]
  },
  {
   "cell_type": "code",
   "execution_count": 9,
   "id": "64ef39d1",
   "metadata": {},
   "outputs": [
    {
     "name": "stdout",
     "output_type": "stream",
     "text": [
      "[A4] Train/Val overlapping URLs: 0 (should be 0 after dedup)\n",
      "[A2] Wrote single-feature AP table → outputs\\robustness\\single_feature_ap.csv\n"
     ]
    }
   ],
   "source": [
    "if urls.size and urls.dtype.kind in {\"U\",\"S\",\"O\"}:\n",
    "    inter = set(u_train).intersection(set(u_val))\n",
    "    print(f\"[A4] Train/Val overlapping URLs: {len(inter)} (should be 0 after dedup)\")\n",
    "else:\n",
    "    print(\"[A4] URL column not available for overlap test\")\n",
    "    \n",
    "# Save the single-feature AP table for review\n",
    "out_dir = Path(\"outputs/robustness\"); out_dir.mkdir(parents=True, exist_ok=True)\n",
    "ap_df.to_csv(out_dir/\"single_feature_ap.csv\", index=False)\n",
    "print(f\"[A2] Wrote single-feature AP table → {out_dir/'single_feature_ap.csv'}\")"
   ]
  }
 ],
 "metadata": {
  "kernelspec": {
   "display_name": "venv",
   "language": "python",
   "name": "python3"
  },
  "language_info": {
   "codemirror_mode": {
    "name": "ipython",
    "version": 3
   },
   "file_extension": ".py",
   "mimetype": "text/x-python",
   "name": "python",
   "nbconvert_exporter": "python",
   "pygments_lexer": "ipython3",
   "version": "3.11.11"
  }
 },
 "nbformat": 4,
 "nbformat_minor": 5
}
